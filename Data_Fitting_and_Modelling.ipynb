{
  "nbformat": 4,
  "nbformat_minor": 0,
  "metadata": {
    "colab": {
      "provenance": []
    },
    "kernelspec": {
      "name": "python3",
      "display_name": "Python 3"
    },
    "language_info": {
      "name": "python"
    }
  },
  "cells": [
    {
      "cell_type": "code",
      "execution_count": 1,
      "metadata": {
        "colab": {
          "base_uri": "https://localhost:8080/"
        },
        "id": "WNdl6n1r_nu0",
        "outputId": "8c1a6cb3-8533-45c1-ffca-83538dd087f0"
      },
      "outputs": [
        {
          "output_type": "stream",
          "name": "stdout",
          "text": [
            "First few rows of Trips_Full Data.csv:\n",
            "  Month of Date Week of Date  Year of Date     Level           Date  \\\n",
            "0        August      Week 32          2019  National  8/4/2019 0:00   \n",
            "1        August      Week 32          2019  National  8/5/2019 0:00   \n",
            "2        August      Week 32          2019  National  8/6/2019 0:00   \n",
            "3        August      Week 32          2019  National  8/7/2019 0:00   \n",
            "4        August      Week 32          2019  National  8/8/2019 0:00   \n",
            "\n",
            "  Week Ending Date  Trips <1 Mile  People Not Staying at Home  \\\n",
            "0        10-Aug-19      292959749                   258404133   \n",
            "1        10-Aug-19      317133861                   262199758   \n",
            "2        10-Aug-19      324443205                   260096133   \n",
            "3        10-Aug-19      358483024                   258878802   \n",
            "4        10-Aug-19      300765870                   262410045   \n",
            "\n",
            "   Population Staying at Home       Trips  ...  Trips 10-25 Miles  \\\n",
            "0                    67763287  1322685497  ...          200922270   \n",
            "1                    63967662  1412564488  ...          228809869   \n",
            "2                    66071287  1437762102  ...          235621127   \n",
            "3                    67288618  1543710309  ...          249988663   \n",
            "4                    63757375  1382044815  ...          226055368   \n",
            "\n",
            "   Trips 100-250 Miles  Trips 100+ Miles  Trips 25-100 Miles  \\\n",
            "0              8595827          15338786            79429125   \n",
            "1              6535920          12563068            86004297   \n",
            "2              5993704          11104823            87599579   \n",
            "3              5379881           8528574            92200386   \n",
            "4              6259735          12892348            84193587   \n",
            "\n",
            "   Trips 25-50 Miles  Trips 250-500 Miles  Trips 3-5 Miles  Trips 5-10 Miles  \\\n",
            "0           59517188              2273613        171336406         216121882   \n",
            "1           68184743              1941260        178996059         231048425   \n",
            "2           70149166              1741994        179210645         233248732   \n",
            "3           74381367              1272248        189163336         243872277   \n",
            "4           66724543              1957888        179346163         230933709   \n",
            "\n",
            "   Trips 50-100 Miles  Trips 500+ Miles  \n",
            "0            19911937           4469346  \n",
            "1            17819554           4085888  \n",
            "2            17450413           3369125  \n",
            "3            17819019           1876445  \n",
            "4            17469044           4674725  \n",
            "\n",
            "[5 rows x 22 columns]\n",
            "\n",
            "Columns in Trips_Full Data.csv:\n",
            "Index(['Month of Date', 'Week of Date', 'Year of Date', 'Level', 'Date',\n",
            "       'Week Ending Date', 'Trips <1 Mile', 'People Not Staying at Home',\n",
            "       'Population Staying at Home', 'Trips', 'Trips 1-25 Miles',\n",
            "       'Trips 1-3 Miles', 'Trips 10-25 Miles', 'Trips 100-250 Miles',\n",
            "       'Trips 100+ Miles', 'Trips 25-100 Miles', 'Trips 25-50 Miles',\n",
            "       'Trips 250-500 Miles', 'Trips 3-5 Miles', 'Trips 5-10 Miles',\n",
            "       'Trips 50-100 Miles', 'Trips 500+ Miles'],\n",
            "      dtype='object')\n",
            "\n",
            "First few rows of Trips_by_Distance.csv:\n",
            "      Level      Date  State FIPS State Postal Code  County FIPS County Name  \\\n",
            "0  National  1/1/2019         NaN               NaN          NaN         NaN   \n",
            "1  National  1/2/2019         NaN               NaN          NaN         NaN   \n",
            "2  National  1/3/2019         NaN               NaN          NaN         NaN   \n",
            "3  National  1/4/2019         NaN               NaN          NaN         NaN   \n",
            "4  National  1/5/2019         NaN               NaN          NaN         NaN   \n",
            "\n",
            "   Population Staying at Home  Population Not Staying at Home  \\\n",
            "0                  77433867.0                     248733553.0   \n",
            "1                  61305201.0                     264862219.0   \n",
            "2                  63050480.0                     263116940.0   \n",
            "3                  61803652.0                     264363768.0   \n",
            "4                  64389745.0                     261777675.0   \n",
            "\n",
            "   Number of Trips  Number of Trips <1  ...  Number of Trips 5-10  \\\n",
            "0     8.977844e+08         241667151.0  ...           129670778.0   \n",
            "1     1.139452e+09         291276735.0  ...           171637514.0   \n",
            "2     1.162753e+09         296375014.0  ...           175775410.0   \n",
            "3     1.181954e+09         293159631.0  ...           181324645.0   \n",
            "4     1.180477e+09         295459014.0  ...           180941769.0   \n",
            "\n",
            "   Number of Trips 10-25  Number of Trips 25-50  Number of Trips 50-100  \\\n",
            "0            116904343.0             40432062.0              15686639.0   \n",
            "1            167412698.0             56148976.0              17739183.0   \n",
            "2            172027487.0             57632422.0              18366626.0   \n",
            "3            176144493.0             58761592.0              19315785.0   \n",
            "4            165239790.0             54842134.0              19363939.0   \n",
            "\n",
            "   Number of Trips 100-250  Number of Trips 250-500  Number of Trips >=500  \\\n",
            "0                7525563.0                1806022.0              1728112.0   \n",
            "1                7817044.0                1962301.0              1531219.0   \n",
            "2                8124548.0                2038099.0              1567072.0   \n",
            "3                8687318.0                2096065.0              1569185.0   \n",
            "4                8490791.0                1991159.0              1438664.0   \n",
            "\n",
            "              Row ID  Week Month  \n",
            "0  00-00000-20190101   0.0   1.0  \n",
            "1  00-00000-20190102   0.0   1.0  \n",
            "2  00-00000-20190103   0.0   1.0  \n",
            "3  00-00000-20190104   0.0   1.0  \n",
            "4  00-00000-20190105   0.0   1.0  \n",
            "\n",
            "[5 rows x 22 columns]\n",
            "\n",
            "Columns in Trips_by_Distance.csv:\n",
            "Index(['Level', 'Date', 'State FIPS', 'State Postal Code', 'County FIPS',\n",
            "       'County Name', 'Population Staying at Home',\n",
            "       'Population Not Staying at Home', 'Number of Trips',\n",
            "       'Number of Trips <1', 'Number of Trips 1-3', 'Number of Trips 3-5',\n",
            "       'Number of Trips 5-10', 'Number of Trips 10-25',\n",
            "       'Number of Trips 25-50', 'Number of Trips 50-100',\n",
            "       'Number of Trips 100-250', 'Number of Trips 250-500',\n",
            "       'Number of Trips >=500', 'Row ID', 'Week', 'Month'],\n",
            "      dtype='object')\n"
          ]
        }
      ],
      "source": [
        "import pandas as pd\n",
        "\n",
        "# Load the datasets\n",
        "df_full = pd.read_csv('/content/Trips_Full Data.csv')\n",
        "df_by_distance = pd.read_csv('/content/Trips_by_Distance.csv')\n",
        "\n",
        "# Display the first few rows and the columns of each dataset\n",
        "print(\"First few rows of Trips_Full Data.csv:\")\n",
        "print(df_full.head())\n",
        "print(\"\\nColumns in Trips_Full Data.csv:\")\n",
        "print(df_full.columns)\n",
        "\n",
        "print(\"\\nFirst few rows of Trips_by_Distance.csv:\")\n",
        "print(df_by_distance.head())\n",
        "print(\"\\nColumns in Trips_by_Distance.csv:\")\n",
        "print(df_by_distance.columns)\n"
      ]
    },
    {
      "cell_type": "code",
      "source": [
        "# Select week 32 data from Trips_by_Distance.csv\n",
        "week_32_data = df_by_distance[df_by_distance['Week'] == 32]\n",
        "\n",
        "# Choose a dependent variable, for example 'Number of Trips 5-10'\n",
        "y = week_32_data['Number of Trips 5-10']\n",
        "\n",
        "# Assuming we use 'Trips 1-25 Miles' from Trips_Full Data.csv as an independent variable\n",
        "x = df_full['Trips 1-25 Miles'].values.reshape(-1, 1)\n",
        "\n",
        "# Print the number of entries and a sample of x and y to verify data\n",
        "print(f'Number of entries in y: {y.shape[0]}')\n",
        "print(f'Sample from y: \\n{y.head()}')\n",
        "print(f'Number of entries in x: {x.shape[0]}')\n",
        "print(f'Sample from x: \\n{x[:5]}')\n",
        "\n",
        "\n"
      ],
      "metadata": {
        "colab": {
          "base_uri": "https://localhost:8080/"
        },
        "id": "knfHdMawANY7",
        "outputId": "a8527e34-8df0-4328-dab6-3eb2c8f15b5a"
      },
      "execution_count": 3,
      "outputs": [
        {
          "output_type": "stream",
          "name": "stdout",
          "text": [
            "Number of entries in y: 728\n",
            "Sample from y: \n",
            "222    213249600.0\n",
            "223    228884645.0\n",
            "224    231439269.0\n",
            "225    237225197.0\n",
            "226    237319382.0\n",
            "Name: Number of Trips 5-10, dtype: float64\n",
            "Number of entries in x: 7\n",
            "Sample from x: \n",
            "[[ 934957837]\n",
            " [ 996863262]\n",
            " [1014614495]\n",
            " [1084498325]\n",
            " [ 984193010]]\n"
          ]
        }
      ]
    },
    {
      "cell_type": "code",
      "source": [
        "# Check if 'Date' or similar columns exist in both datasets\n",
        "print(\"Columns in Trips_Full Data.csv:\")\n",
        "print(df_full.columns)\n",
        "print(\"\\nColumns in Trips_by_Distance.csv:\")\n",
        "print(df_by_distance.columns)\n",
        "\n",
        "# If date columns are present, print their range or unique values\n",
        "if 'Date' in df_full.columns and 'Date' in df_by_distance.columns:\n",
        "    print(\"\\nDate range in Trips_Full Data.csv:\")\n",
        "    print(df_full['Date'].min(), df_full['Date'].max())\n",
        "    print(\"\\nDate range in Trips_by_Distance.csv:\")\n",
        "    print(df_by_distance['Date'].min(), df_by_distance['Date'].max())\n"
      ],
      "metadata": {
        "colab": {
          "base_uri": "https://localhost:8080/"
        },
        "id": "ndk9fsYPAsLc",
        "outputId": "ff899689-2011-48aa-928c-89bcc2eaf458"
      },
      "execution_count": 4,
      "outputs": [
        {
          "output_type": "stream",
          "name": "stdout",
          "text": [
            "Columns in Trips_Full Data.csv:\n",
            "Index(['Month of Date', 'Week of Date', 'Year of Date', 'Level', 'Date',\n",
            "       'Week Ending Date', 'Trips <1 Mile', 'People Not Staying at Home',\n",
            "       'Population Staying at Home', 'Trips', 'Trips 1-25 Miles',\n",
            "       'Trips 1-3 Miles', 'Trips 10-25 Miles', 'Trips 100-250 Miles',\n",
            "       'Trips 100+ Miles', 'Trips 25-100 Miles', 'Trips 25-50 Miles',\n",
            "       'Trips 250-500 Miles', 'Trips 3-5 Miles', 'Trips 5-10 Miles',\n",
            "       'Trips 50-100 Miles', 'Trips 500+ Miles'],\n",
            "      dtype='object')\n",
            "\n",
            "Columns in Trips_by_Distance.csv:\n",
            "Index(['Level', 'Date', 'State FIPS', 'State Postal Code', 'County FIPS',\n",
            "       'County Name', 'Population Staying at Home',\n",
            "       'Population Not Staying at Home', 'Number of Trips',\n",
            "       'Number of Trips <1', 'Number of Trips 1-3', 'Number of Trips 3-5',\n",
            "       'Number of Trips 5-10', 'Number of Trips 10-25',\n",
            "       'Number of Trips 25-50', 'Number of Trips 50-100',\n",
            "       'Number of Trips 100-250', 'Number of Trips 250-500',\n",
            "       'Number of Trips >=500', 'Row ID', 'Week', 'Month'],\n",
            "      dtype='object')\n",
            "\n",
            "Date range in Trips_Full Data.csv:\n",
            "8/10/2019 0:00 8/9/2019 0:00\n",
            "\n",
            "Date range in Trips_by_Distance.csv:\n",
            "1/1/2019 9/9/2020\n"
          ]
        }
      ]
    },
    {
      "cell_type": "code",
      "source": [
        "# Convert 'Date' columns to datetime format in both datasets\n",
        "df_full['Date'] = pd.to_datetime(df_full['Date'], errors='coerce')\n",
        "df_by_distance['Date'] = pd.to_datetime(df_by_distance['Date'], errors='coerce')\n",
        "\n",
        "# Filter both datasets for Week 32, ensuring they are from the same year\n",
        "week_32_full = df_full[df_full['Week of Date'] == 32]\n",
        "week_32_distance = df_by_distance[df_by_distance['Week'] == 32]\n",
        "\n",
        "# Align both datasets by date\n",
        "aligned_data = pd.merge(week_32_full, week_32_distance, on='Date', how='inner')\n",
        "\n",
        "# Print the column names after merge to confirm the correct column names\n",
        "print(\"Column names after merge:\")\n",
        "print(aligned_data.columns)\n",
        "\n",
        "# Once you have the correct column names, replace 'Trips 1-25 Miles' and 'Number of Trips 5-10_y'\n",
        "# in the following lines with the correct names from the output\n",
        "x = aligned_data['Trips 1-25 Miles'].values.reshape(-1, 1)\n",
        "y = aligned_data['Number of Trips 5-10'].values\n",
        "\n",
        "# Print aligned data to verify\n",
        "print(\"Aligned data sample:\")\n",
        "print(aligned_data[['Date', 'Trips 1-25 Miles', 'Number of Trips 5-10']].head())  # Update column names if needed\n",
        "\n",
        "# Print shapes to verify alignment\n",
        "print(f'\\nNumber of entries in x: {x.shape[0]}')\n",
        "print(f'Number of entries in y: {y.shape[0]}')\n"
      ],
      "metadata": {
        "colab": {
          "base_uri": "https://localhost:8080/"
        },
        "id": "BO7UWIhAA7rJ",
        "outputId": "6783a7e5-18b6-4e0e-b192-df28346e2c14"
      },
      "execution_count": 6,
      "outputs": [
        {
          "output_type": "stream",
          "name": "stdout",
          "text": [
            "Column names after merge:\n",
            "Index(['Month of Date', 'Week of Date', 'Year of Date', 'Level_x',\n",
            "       'Week Ending Date', 'Trips <1 Mile', 'People Not Staying at Home',\n",
            "       'Population Staying at Home_x', 'Trips', 'Trips 1-25 Miles',\n",
            "       'Trips 1-3 Miles', 'Trips 10-25 Miles', 'Trips 100-250 Miles',\n",
            "       'Trips 100+ Miles', 'Trips 25-100 Miles', 'Trips 25-50 Miles',\n",
            "       'Trips 250-500 Miles', 'Trips 3-5 Miles', 'Trips 5-10 Miles',\n",
            "       'Trips 50-100 Miles', 'Trips 500+ Miles', 'Level_y', 'Date',\n",
            "       'State FIPS', 'State Postal Code', 'County FIPS', 'County Name',\n",
            "       'Population Staying at Home_y', 'Population Not Staying at Home',\n",
            "       'Number of Trips', 'Number of Trips <1', 'Number of Trips 1-3',\n",
            "       'Number of Trips 3-5', 'Number of Trips 5-10', 'Number of Trips 10-25',\n",
            "       'Number of Trips 25-50', 'Number of Trips 50-100',\n",
            "       'Number of Trips 100-250', 'Number of Trips 250-500',\n",
            "       'Number of Trips >=500', 'Row ID', 'Week', 'Month'],\n",
            "      dtype='object')\n",
            "Aligned data sample:\n",
            "Empty DataFrame\n",
            "Columns: [Date, Trips 1-25 Miles, Number of Trips 5-10]\n",
            "Index: []\n",
            "\n",
            "Number of entries in x: 0\n",
            "Number of entries in y: 0\n"
          ]
        }
      ]
    },
    {
      "cell_type": "code",
      "source": [
        "# Convert 'Date' columns to datetime format in both datasets\n",
        "df_full['Date'] = pd.to_datetime(df_full['Date'], format='%m/%d/%Y %H:%M', errors='coerce')\n",
        "df_by_distance['Date'] = pd.to_datetime(df_by_distance['Date'], format='%m/%d/%Y', errors='coerce')\n",
        "\n",
        "# Filter for a broader range or specific dates and check the available range\n",
        "print(\"Date range in df_full after conversion:\")\n",
        "print(df_full['Date'].min(), df_full['Date'].max())\n",
        "print(\"Date range in df_by_distance after conversion:\")\n",
        "print(df_by_distance['Date'].min(), df_by_distance['Date'].max())\n",
        "\n",
        "# Filter for a specific broad range if needed\n",
        "start_date = pd.to_datetime(\"8/1/2019\")\n",
        "end_date = pd.to_datetime(\"8/31/2019\")\n",
        "df_full_filtered = df_full[(df_full['Date'] >= start_date) & (df_full['Date'] <= end_date)]\n",
        "df_by_distance_filtered = df_by_distance[(df_by_distance['Date'] >= start_date) & (df_by_distance['Date'] <= end_date)]\n",
        "\n",
        "# Check for available data after filtering\n",
        "print(\"\\nFiltered df_full:\")\n",
        "print(df_full_filtered['Date'].unique())\n",
        "print(\"\\nFiltered df_by_distance:\")\n",
        "print(df_by_distance_filtered['Date'].unique())\n",
        "\n",
        "# Trying aligning again\n",
        "aligned_data = pd.merge(df_full_filtered, df_by_distance_filtered, on='Date', how='inner')\n",
        "print(\"\\nAligned data sample after broadening date range:\")\n",
        "print(aligned_data.head())\n",
        "\n",
        "print(f'\\nNumber of entries in aligned data: {aligned_data.shape[0]}')\n"
      ],
      "metadata": {
        "colab": {
          "base_uri": "https://localhost:8080/"
        },
        "id": "m89-AtihBeM8",
        "outputId": "17ae4b46-a787-408f-c4c1-f9d985b8d3d9"
      },
      "execution_count": 7,
      "outputs": [
        {
          "output_type": "stream",
          "name": "stdout",
          "text": [
            "Date range in df_full after conversion:\n",
            "2019-08-04 00:00:00 2019-08-10 00:00:00\n",
            "Date range in df_by_distance after conversion:\n",
            "2019-01-01 00:00:00 2022-02-06 00:00:00\n",
            "\n",
            "Filtered df_full:\n",
            "<DatetimeArray>\n",
            "['2019-08-04 00:00:00', '2019-08-05 00:00:00', '2019-08-06 00:00:00',\n",
            " '2019-08-07 00:00:00', '2019-08-08 00:00:00', '2019-08-09 00:00:00',\n",
            " '2019-08-10 00:00:00']\n",
            "Length: 7, dtype: datetime64[ns]\n",
            "\n",
            "Filtered df_by_distance:\n",
            "<DatetimeArray>\n",
            "['2019-08-01 00:00:00', '2019-08-02 00:00:00', '2019-08-03 00:00:00',\n",
            " '2019-08-04 00:00:00', '2019-08-05 00:00:00', '2019-08-06 00:00:00',\n",
            " '2019-08-07 00:00:00', '2019-08-08 00:00:00', '2019-08-09 00:00:00',\n",
            " '2019-08-10 00:00:00', '2019-08-11 00:00:00', '2019-08-12 00:00:00',\n",
            " '2019-08-13 00:00:00', '2019-08-14 00:00:00', '2019-08-15 00:00:00',\n",
            " '2019-08-16 00:00:00', '2019-08-17 00:00:00', '2019-08-18 00:00:00',\n",
            " '2019-08-19 00:00:00', '2019-08-20 00:00:00', '2019-08-21 00:00:00',\n",
            " '2019-08-22 00:00:00', '2019-08-23 00:00:00', '2019-08-24 00:00:00',\n",
            " '2019-08-25 00:00:00', '2019-08-26 00:00:00', '2019-08-27 00:00:00',\n",
            " '2019-08-28 00:00:00', '2019-08-29 00:00:00', '2019-08-30 00:00:00',\n",
            " '2019-08-31 00:00:00']\n",
            "Length: 31, dtype: datetime64[ns]\n",
            "\n",
            "Aligned data sample after broadening date range:\n",
            "  Month of Date Week of Date  Year of Date   Level_x       Date  \\\n",
            "0        August      Week 32          2019  National 2019-08-04   \n",
            "1        August      Week 32          2019  National 2019-08-04   \n",
            "2        August      Week 32          2019  National 2019-08-04   \n",
            "3        August      Week 32          2019  National 2019-08-04   \n",
            "4        August      Week 32          2019  National 2019-08-04   \n",
            "\n",
            "  Week Ending Date  Trips <1 Mile  People Not Staying at Home  \\\n",
            "0        10-Aug-19      292959749                   258404133   \n",
            "1        10-Aug-19      292959749                   258404133   \n",
            "2        10-Aug-19      292959749                   258404133   \n",
            "3        10-Aug-19      292959749                   258404133   \n",
            "4        10-Aug-19      292959749                   258404133   \n",
            "\n",
            "   Population Staying at Home_x       Trips  ...  Number of Trips 5-10  \\\n",
            "0                      67763287  1322685497  ...           216121882.0   \n",
            "1                      67763287  1322685497  ...             3156696.0   \n",
            "2                      67763287  1322685497  ...              267474.0   \n",
            "3                      67763287  1322685497  ...             4034354.0   \n",
            "4                      67763287  1322685497  ...             1134388.0   \n",
            "\n",
            "   Number of Trips 10-25  Number of Trips 25-50  Number of Trips 50-100  \\\n",
            "0            200922270.0             59517188.0              19911937.0   \n",
            "1              2911826.0               850957.0                285238.0   \n",
            "2               246153.0               193078.0                123169.0   \n",
            "3              4010006.0              1345169.0                483173.0   \n",
            "4               980137.0               308872.0                 95221.0   \n",
            "\n",
            "   Number of Trips 100-250  Number of Trips 250-500  Number of Trips >=500  \\\n",
            "0                8595827.0                2273613.0              4469346.0   \n",
            "1                 104861.0                  29733.0                21014.0   \n",
            "2                  39975.0                   4337.0                 6566.0   \n",
            "3                 200433.0                  39107.0               109429.0   \n",
            "4                  48519.0                   8793.0                19234.0   \n",
            "\n",
            "              Row ID  Week  Month  \n",
            "0  00-00000-20190804  31.0    8.0  \n",
            "1  01-00000-20190804  31.0    8.0  \n",
            "2  56-00000-20190804  31.0    8.0  \n",
            "3  55-00000-20190804  31.0    8.0  \n",
            "4  54-00000-20190804  31.0    8.0  \n",
            "\n",
            "[5 rows x 43 columns]\n",
            "\n",
            "Number of entries in aligned data: 364\n"
          ]
        }
      ]
    },
    {
      "cell_type": "code",
      "source": [
        "from sklearn.model_selection import train_test_split\n",
        "from sklearn.linear_model import LinearRegression\n",
        "from sklearn.metrics import mean_squared_error, r2_score\n",
        "\n",
        "# Prepare data\n",
        "X = aligned_data['Trips 1-25 Miles'].values.reshape(-1, 1)\n",
        "y = aligned_data['Number of Trips 5-10'].values\n",
        "\n",
        "# Split data into training and testing sets\n",
        "X_train, X_test, y_train, y_test = train_test_split(X, y, test_size=0.2, random_state=42)\n",
        "\n",
        "# Create a linear regression model\n",
        "model = LinearRegression()\n",
        "\n",
        "# Fit the model\n",
        "model.fit(X_train, y_train)\n",
        "\n",
        "# Predict using the model\n",
        "y_pred = model.predict(X_test)\n",
        "\n",
        "# Evaluate the model\n",
        "mse = mean_squared_error(y_test, y_pred)\n",
        "r2 = r2_score(y_test, y_pred)\n",
        "\n",
        "print(f'Model Coefficients: {model.coef_}')\n",
        "print(f'Intercept: {model.intercept_}')\n",
        "print(f'Mean Squared Error: {mse}')\n",
        "print(f'R-squared: {r2}')\n"
      ],
      "metadata": {
        "colab": {
          "base_uri": "https://localhost:8080/"
        },
        "id": "zihmG5z_BuC_",
        "outputId": "5747a61c-24d8-4604-de21-7ba3fcad0307"
      },
      "execution_count": 8,
      "outputs": [
        {
          "output_type": "stream",
          "name": "stdout",
          "text": [
            "Model Coefficients: [0.03217926]\n",
            "Intercept: -23471341.593615703\n",
            "Mean Squared Error: 639961538118850.4\n",
            "R-squared: -0.02650196637110591\n"
          ]
        }
      ]
    },
    {
      "cell_type": "markdown",
      "source": [],
      "metadata": {
        "id": "78K5jat8KxGy"
      }
    },
    {
      "cell_type": "code",
      "source": [
        "from sklearn.preprocessing import PolynomialFeatures\n",
        "from sklearn.pipeline import make_pipeline\n",
        "\n",
        "# Create a polynomial regression model\n",
        "degree = 2  # You can adjust the degree to see how it affects the model\n",
        "poly_model = make_pipeline(PolynomialFeatures(degree), LinearRegression())\n",
        "\n",
        "# Fit the model\n",
        "poly_model.fit(X_train, y_train)\n",
        "\n",
        "# Predict using the model\n",
        "y_poly_pred = poly_model.predict(X_test)\n",
        "\n",
        "# Evaluate the model\n",
        "poly_mse = mean_squared_error(y_test, y_poly_pred)\n",
        "poly_r2 = r2_score(y_test, y_poly_pred)\n",
        "\n",
        "print(f'Polynomial Degree: {degree}')\n",
        "print(f'Mean Squared Error: {poly_mse}')\n",
        "print(f'R-squared: {poly_r2}')\n"
      ],
      "metadata": {
        "colab": {
          "base_uri": "https://localhost:8080/"
        },
        "id": "RNJI1YHRCI3G",
        "outputId": "b6542193-94e1-416f-ffee-17a0ca8853ed"
      },
      "execution_count": 9,
      "outputs": [
        {
          "output_type": "stream",
          "name": "stdout",
          "text": [
            "Polynomial Degree: 2\n",
            "Mean Squared Error: 654400522345296.8\n",
            "R-squared: -0.04966217963082209\n"
          ]
        }
      ]
    },
    {
      "cell_type": "code",
      "source": [
        "# Create a polynomial regression model with a higher degree\n",
        "degree = 3  # Increasing to degree 3\n",
        "high_poly_model = make_pipeline(PolynomialFeatures(degree), LinearRegression())\n",
        "\n",
        "# Fit the model\n",
        "high_poly_model.fit(X_train, y_train)\n",
        "\n",
        "# Predict using the model\n",
        "y_high_poly_pred = high_poly_model.predict(X_test)\n",
        "\n",
        "# Evaluate the model\n",
        "high_poly_mse = mean_squared_error(y_test, y_high_poly_pred)\n",
        "high_poly_r2 = r2_score(y_test, y_high_poly_pred)\n",
        "\n",
        "print(f'Polynomial Degree: {degree}')\n",
        "print(f'Mean Squared Error: {high_poly_mse}')\n",
        "print(f'R-squared: {high_poly_r2}')\n"
      ],
      "metadata": {
        "colab": {
          "base_uri": "https://localhost:8080/"
        },
        "id": "avlumDIeCebj",
        "outputId": "f7aa8fa6-baeb-48d6-ad9e-286bd9794cad"
      },
      "execution_count": 10,
      "outputs": [
        {
          "output_type": "stream",
          "name": "stdout",
          "text": [
            "Polynomial Degree: 3\n",
            "Mean Squared Error: 653950062773642.1\n",
            "R-squared: -0.04893963990221062\n"
          ]
        }
      ]
    },
    {
      "cell_type": "code",
      "source": [],
      "metadata": {
        "id": "kGyh2nG1C4q1"
      },
      "execution_count": null,
      "outputs": []
    },
    {
      "cell_type": "code",
      "source": [
        "import matplotlib.pyplot as plt\n",
        "\n",
        "# Plotting the distribution of Trips 1-25 Miles\n",
        "plt.figure(figsize=(10, 5))\n",
        "plt.subplot(1, 2, 1)\n",
        "plt.hist(aligned_data['Trips 1-25 Miles'], bins=30, color='blue')\n",
        "plt.title('Distribution of Trips 1-25 Miles')\n",
        "\n",
        "# Plotting the distribution of Number of Trips 5-10\n",
        "plt.subplot(1, 2, 2)\n",
        "plt.hist(aligned_data['Number of Trips 5-10'], bins=30, color='green')\n",
        "plt.title('Distribution of Number of Trips 5-10')\n",
        "\n",
        "plt.show()\n"
      ],
      "metadata": {
        "colab": {
          "base_uri": "https://localhost:8080/",
          "height": 462
        },
        "id": "dUt8lfN4CgWz",
        "outputId": "b3def12a-247e-4fd4-f706-48579f81baf7"
      },
      "execution_count": 11,
      "outputs": [
        {
          "output_type": "display_data",
          "data": {
            "text/plain": [
              "<Figure size 1000x500 with 2 Axes>"
            ],
            "image/png": "[encoded data removed]"
          },
          "metadata": {}
        }
      ]
    },
    {
      "cell_type": "code",
      "source": [
        "import numpy as np\n",
        "\n",
        "# Applying log transformation\n",
        "X_log = np.log1p(X)  # log1p is used to handle zero values smoothly\n",
        "y_log = np.log1p(y)\n",
        "\n",
        "# Split data into training and testing sets for transformed data\n",
        "X_log_train, X_log_test, y_log_train, y_log_test = train_test_split(X_log, y_log, test_size=0.2, random_state=42)\n",
        "\n",
        "# Create a linear regression model for transformed data\n",
        "log_model = LinearRegression()\n",
        "\n",
        "# Fit the model\n",
        "log_model.fit(X_log_train, y_log_train)\n",
        "\n",
        "# Predict using the model\n",
        "y_log_pred = log_model.predict(X_log_test)\n",
        "\n",
        "# Reverse the transformation for evaluation\n",
        "y_test_true = np.expm1(y_log_test)\n",
        "y_pred_true = np.expm1(y_log_pred)\n",
        "\n",
        "# Evaluate the model\n",
        "log_mse = mean_squared_error(y_test_true, y_pred_true)\n",
        "log_r2 = r2_score(y_test_true, y_pred_true)\n",
        "\n",
        "print(f'Intercept: {log_model.intercept_}')\n",
        "print(f'Coefficients: {log_model.coef_}')\n",
        "print(f'Mean Squared Error: {log_mse}')\n",
        "print(f'R-squared: {log_r2}')\n"
      ],
      "metadata": {
        "colab": {
          "base_uri": "https://localhost:8080/"
        },
        "id": "PXVhBfG0C8Ed",
        "outputId": "ea23d583-ff92-46a9-ac1c-d223142024f6"
      },
      "execution_count": 12,
      "outputs": [
        {
          "output_type": "stream",
          "name": "stdout",
          "text": [
            "Intercept: -7.58977449546599\n",
            "Coefficients: [1.0819005]\n",
            "Mean Squared Error: 650323019242556.4\n",
            "R-squared: -0.04312184133931818\n"
          ]
        }
      ]
    },
    {
      "cell_type": "code",
      "source": [
        "from sklearn.ensemble import RandomForestRegressor\n",
        "\n",
        "# Create the Random Forest Regressor model\n",
        "rf_model = RandomForestRegressor(n_estimators=100, random_state=42)\n",
        "\n",
        "# Fit the model\n",
        "rf_model.fit(X_train, y_train)\n",
        "\n",
        "# Predict using the model\n",
        "y_rf_pred = rf_model.predict(X_test)\n",
        "\n",
        "# Evaluate the model\n",
        "rf_mse = mean_squared_error(y_test, y_rf_pred)\n",
        "rf_r2 = r2_score(y_test, y_rf_pred)\n",
        "\n",
        "print(f'Mean Squared Error: {rf_mse}')\n",
        "print(f'R-squared: {rf_r2}')\n"
      ],
      "metadata": {
        "colab": {
          "base_uri": "https://localhost:8080/"
        },
        "id": "Tw3VGSDQDO5g",
        "outputId": "2f2c3a1b-98d5-4ac6-991a-b283af2d1556"
      },
      "execution_count": 13,
      "outputs": [
        {
          "output_type": "stream",
          "name": "stdout",
          "text": [
            "Mean Squared Error: 662476717595612.1\n",
            "R-squared: -0.06261644299110891\n"
          ]
        }
      ]
    },
    {
      "cell_type": "code",
      "source": [
        "# 1. Identify Outliers\n",
        "# Plotting boxplots to identify outliers\n",
        "import matplotlib.pyplot as plt\n",
        "\n",
        "plt.figure(figsize=(14, 6))\n",
        "\n",
        "plt.subplot(1, 2, 1)\n",
        "plt.boxplot(X_train)\n",
        "plt.title('Boxplot of Trips 1-25 Miles')\n",
        "\n",
        "plt.subplot(1, 2, 2)\n",
        "plt.boxplot(y_train)\n",
        "plt.title('Boxplot of Number of Trips 5-10')\n",
        "\n",
        "plt.show()\n",
        "\n",
        "# 2. Check for Missing Values\n",
        "# Assuming 'aligned_data' is the merged dataset we have been working with\n",
        "print(\"Missing values in each column:\")\n",
        "print(aligned_data.isnull().sum())\n",
        "\n",
        "# 3. Feature Importance Analysis\n",
        "# Using the Random Forest Regressor to find feature importances\n",
        "feature_importances = rf_model.feature_importances_\n",
        "print(f\"Feature importances: {feature_importances}\")\n"
      ],
      "metadata": {
        "colab": {
          "base_uri": "https://localhost:8080/",
          "height": 1000
        },
        "id": "zpS5lEboDlAY",
        "outputId": "5c648492-aa8d-4af4-ba2b-72a75237421e"
      },
      "execution_count": 14,
      "outputs": [
        {
          "output_type": "display_data",
          "data": {
            "text/plain": [
              "<Figure size 1400x600 with 2 Axes>"
            ],
            "image/png": "[encoded data removed]"
          },
          "metadata": {}
        },
        {
          "output_type": "stream",
          "name": "stdout",
          "text": [
            "Missing values in each column:\n",
            "Month of Date                       0\n",
            "Week of Date                        0\n",
            "Year of Date                        0\n",
            "Level_x                             0\n",
            "Date                                0\n",
            "Week Ending Date                    0\n",
            "Trips <1 Mile                       0\n",
            "People Not Staying at Home          0\n",
            "Population Staying at Home_x        0\n",
            "Trips                               0\n",
            "Trips 1-25 Miles                    0\n",
            "Trips 1-3 Miles                     0\n",
            "Trips 10-25 Miles                   0\n",
            "Trips 100-250 Miles                 0\n",
            "Trips 100+ Miles                    0\n",
            "Trips 25-100 Miles                  0\n",
            "Trips 25-50 Miles                   0\n",
            "Trips 250-500 Miles                 0\n",
            "Trips 3-5 Miles                     0\n",
            "Trips 5-10 Miles                    0\n",
            "Trips 50-100 Miles                  0\n",
            "Trips 500+ Miles                    0\n",
            "Level_y                             0\n",
            "State FIPS                          7\n",
            "State Postal Code                   7\n",
            "County FIPS                       364\n",
            "County Name                       364\n",
            "Population Staying at Home_y        0\n",
            "Population Not Staying at Home      0\n",
            "Number of Trips                     0\n",
            "Number of Trips <1                  0\n",
            "Number of Trips 1-3                 0\n",
            "Number of Trips 3-5                 0\n",
            "Number of Trips 5-10                0\n",
            "Number of Trips 10-25               0\n",
            "Number of Trips 25-50               0\n",
            "Number of Trips 50-100              0\n",
            "Number of Trips 100-250             0\n",
            "Number of Trips 250-500             0\n",
            "Number of Trips >=500               0\n",
            "Row ID                              0\n",
            "Week                                0\n",
            "Month                               0\n",
            "dtype: int64\n",
            "Feature importances: [1.]\n"
          ]
        }
      ]
    },
    {
      "cell_type": "code",
      "source": [
        "# Calculate IQR\n",
        "Q1 = aligned_data['Number of Trips 5-10'].quantile(0.25)\n",
        "Q3 = aligned_data['Number of Trips 5-10'].quantile(0.75)\n",
        "IQR = Q3 - Q1\n",
        "\n",
        "# Define bounds for outliers\n",
        "lower_bound = Q1 - 1.5 * IQR\n",
        "upper_bound = Q3 + 1.5 * IQR\n",
        "\n",
        "# Removing outliers\n",
        "aligned_data_no_outliers = aligned_data[(aligned_data['Number of Trips 5-10'] >= lower_bound) &\n",
        "                                        (aligned_data['Number of Trips 5-10'] <= upper_bound)]\n",
        "\n",
        "\n"
      ],
      "metadata": {
        "id": "53yAnOZFD6qC"
      },
      "execution_count": 15,
      "outputs": []
    },
    {
      "cell_type": "code",
      "source": [
        "from sklearn.model_selection import train_test_split\n",
        "from sklearn.ensemble import RandomForestRegressor\n",
        "from sklearn.metrics import mean_squared_error, r2_score\n",
        "\n",
        "# Prepare the cleaned data\n",
        "X_clean = aligned_data_no_outliers['Trips 1-25 Miles'].values.reshape(-1, 1)\n",
        "y_clean = aligned_data_no_outliers['Number of Trips 5-10'].values\n",
        "\n",
        "# Split the cleaned data into training and testing sets\n",
        "X_train_clean, X_test_clean, y_train_clean, y_test_clean = train_test_split(\n",
        "    X_clean, y_clean, test_size=0.2, random_state=42)\n",
        "\n",
        "# Create the Random Forest Regressor model\n",
        "rf_model_clean = RandomForestRegressor(n_estimators=100, random_state=42)\n",
        "\n",
        "# Fit the model on cleaned data\n",
        "rf_model_clean.fit(X_train_clean, y_train_clean)\n",
        "\n",
        "# Predict using the model\n",
        "y_rf_pred_clean = rf_model_clean.predict(X_test_clean)\n",
        "\n",
        "# Evaluate the model using cleaned data\n",
        "rf_mse_clean = mean_squared_error(y_test_clean, y_rf_pred_clean)\n",
        "rf_r2_clean = r2_score(y_test_clean, y_rf_pred_clean)\n",
        "\n",
        "print(f'Mean Squared Error: {rf_mse_clean}')\n",
        "print(f'R-squared: {rf_r2_clean}')\n"
      ],
      "metadata": {
        "colab": {
          "base_uri": "https://localhost:8080/"
        },
        "id": "ID0UEnfnEJBT",
        "outputId": "a2ddc939-5ecb-4f11-ee52-1ba04d408ef6"
      },
      "execution_count": 16,
      "outputs": [
        {
          "output_type": "stream",
          "name": "stdout",
          "text": [
            "Mean Squared Error: 8964121072744.389\n",
            "R-squared: -0.03257939227875206\n"
          ]
        }
      ]
    },
    {
      "cell_type": "code",
      "source": [
        "from sklearn.model_selection import GridSearchCV\n",
        "from sklearn.model_selection import RepeatedKFold\n",
        "\n",
        "# Define the parameter grid for Random Forest\n",
        "param_grid = {\n",
        "    'n_estimators': [50, 100, 200],\n",
        "    'max_depth': [None, 10, 20, 30],\n",
        "    'min_samples_split': [2, 4, 6]\n",
        "}\n",
        "\n",
        "# Create a base model\n",
        "rf = RandomForestRegressor(random_state=42)\n",
        "\n",
        "# Setup the cross-validation fold method. Let's use Repeated K-Folds\n",
        "cv = RepeatedKFold(n_splits=5, n_repeats=3, random_state=42)\n",
        "\n",
        "# Instantiate the grid search model\n",
        "grid_search = GridSearchCV(estimator=rf, param_grid=param_grid, cv=cv, n_jobs=-1, scoring='neg_mean_squared_error')\n",
        "\n",
        "# Fit the grid search to the cleaned data\n",
        "grid_search.fit(X_clean, y_clean)\n",
        "\n",
        "# Print the best parameters and the best score (negative MSE)\n",
        "print(f\"Best parameters: {grid_search.best_params_}\")\n",
        "print(f\"Best score (negative MSE): {grid_search.best_score_}\")\n",
        "\n",
        "# Calculate R-squared on the best model\n",
        "best_model = grid_search.best_estimator_\n",
        "y_pred = best_model.predict(X_clean)\n",
        "r2 = r2_score(y_clean, y_pred)\n",
        "\n",
        "print(f\"R-squared for the best model: {r2}\")\n"
      ],
      "metadata": {
        "colab": {
          "base_uri": "https://localhost:8080/"
        },
        "id": "YUUFg_tmEnZ6",
        "outputId": "a47a5465-dcd1-4524-f00a-00ad3474a50c"
      },
      "execution_count": 17,
      "outputs": [
        {
          "output_type": "stream",
          "name": "stdout",
          "text": [
            "Best parameters: {'max_depth': None, 'min_samples_split': 2, 'n_estimators': 200}\n",
            "Best score (negative MSE): -7474738207836.533\n",
            "R-squared for the best model: 0.0007412791228629256\n"
          ]
        }
      ]
    },
    {
      "cell_type": "code",
      "source": [
        "from sklearn.ensemble import GradientBoostingRegressor\n",
        "\n",
        "# Define the model\n",
        "gbm_model = GradientBoostingRegressor(n_estimators=200, learning_rate=0.1, max_depth=3, random_state=42)\n",
        "\n",
        "# Fit the model on the cleaned data\n",
        "gbm_model.fit(X_train_clean, y_train_clean)\n",
        "\n",
        "# Predict using the model\n",
        "y_gbm_pred_clean = gbm_model.predict(X_test_clean)\n",
        "\n",
        "# Evaluate the model using the cleaned data\n",
        "gbm_mse_clean = mean_squared_error(y_test_clean, y_gbm_pred_clean)\n",
        "gbm_r2_clean = r2_score(y_test_clean, y_gbm_pred_clean)\n",
        "\n",
        "print(f'GBM Mean Squared Error: {gbm_mse_clean}')\n",
        "print(f'GBM R-squared: {gbm_r2_clean}')\n"
      ],
      "metadata": {
        "colab": {
          "base_uri": "https://localhost:8080/"
        },
        "id": "zG2z8dFLFagW",
        "outputId": "e6d772be-527d-483d-a691-f6cad8b8c3cf"
      },
      "execution_count": 18,
      "outputs": [
        {
          "output_type": "stream",
          "name": "stdout",
          "text": [
            "GBM Mean Squared Error: 8950953923413.51\n",
            "GBM R-squared: -0.03106266498961907\n"
          ]
        }
      ]
    },
    {
      "cell_type": "code",
      "source": [
        "from sklearn.preprocessing import PolynomialFeatures\n",
        "\n",
        "# Generate polynomial and interaction features\n",
        "poly = PolynomialFeatures(degree=2, include_bias=False)\n",
        "X_poly = poly.fit_transform(X_clean)\n",
        "\n",
        "# Split the new feature set into training and testing sets\n",
        "X_poly_train, X_poly_test, y_poly_train, y_poly_test = train_test_split(\n",
        "    X_poly, y_clean, test_size=0.2, random_state=42)\n",
        "\n",
        "# Fit the Random Forest on this new feature set\n",
        "rf_poly_model = RandomForestRegressor(n_estimators=100, random_state=42)\n",
        "rf_poly_model.fit(X_poly_train, y_poly_train)\n",
        "\n",
        "# Evaluate the new model\n",
        "y_poly_pred = rf_poly_model.predict(X_poly_test)\n",
        "poly_mse = mean_squared_error(y_poly_test, y_poly_pred)\n",
        "poly_r2 = r2_score(y_poly_test, y_poly_pred)\n",
        "\n",
        "print(f'Polynomial Features MSE: {poly_mse}')\n",
        "print(f'Polynomial Features R-squared: {poly_r2}')\n"
      ],
      "metadata": {
        "colab": {
          "base_uri": "https://localhost:8080/"
        },
        "id": "luShUKXbF4Bc",
        "outputId": "3383ba73-cfd9-4f6f-9c23-7a426c884b80"
      },
      "execution_count": 19,
      "outputs": [
        {
          "output_type": "stream",
          "name": "stdout",
          "text": [
            "Polynomial Features MSE: 8964121072744.389\n",
            "Polynomial Features R-squared: -0.03257939227875206\n"
          ]
        }
      ]
    },
    {
      "cell_type": "code",
      "source": [
        "# Convert the regression problem into a classification one\n",
        "# Create a binary target variable indicating above (1) or below (0) average trips\n",
        "y_binary = (y_clean > y_clean.mean()).astype(int)\n",
        "\n",
        "# Split the binary dataset\n",
        "X_binary_train, X_binary_test, y_binary_train, y_binary_test = train_test_split(\n",
        "    X_clean, y_binary, test_size=0.2, random_state=42)\n",
        "\n",
        "# Fit a classification model, for example, a Random Forest classifier\n",
        "from sklearn.ensemble import RandomForestClassifier\n",
        "rf_classifier = RandomForestClassifier(n_estimators=100, random_state=42)\n",
        "rf_classifier.fit(X_binary_train, y_binary_train)\n",
        "\n",
        "# Predict using the classifier\n",
        "y_binary_pred = rf_classifier.predict(X_binary_test)\n",
        "\n",
        "# Evaluate the classifier\n",
        "from sklearn.metrics import accuracy_score\n",
        "binary_accuracy = accuracy_score(y_binary_test, y_binary_pred)\n",
        "\n",
        "print(f'Binary Classification Accuracy: {binary_accuracy}')\n"
      ],
      "metadata": {
        "colab": {
          "base_uri": "https://localhost:8080/"
        },
        "id": "BF0uaWLHF_sc",
        "outputId": "635ef282-efdb-495c-bc26-098a84f1fcf6"
      },
      "execution_count": 20,
      "outputs": [
        {
          "output_type": "stream",
          "name": "stdout",
          "text": [
            "Binary Classification Accuracy: 0.5909090909090909\n"
          ]
        }
      ]
    },
    {
      "cell_type": "code",
      "source": [
        "# Assuming X_clean is used directly in the classifier without transformation\n",
        "importances = rf_classifier.feature_importances_\n",
        "feature_names = ['Trips 1-25 Miles']  # Update this to reflect the actual features used in your model\n",
        "\n",
        "# Create the Series object for plotting\n",
        "f_importances = pd.Series(importances, index=feature_names)\n",
        "\n",
        "# Plot the feature importances\n",
        "plt.figure(figsize=(10, 6))\n",
        "f_importances.sort_values(ascending=False).plot(kind='bar', color='skyblue')\n",
        "plt.title('Feature Importance')\n",
        "plt.show()\n",
        "\n"
      ],
      "metadata": {
        "colab": {
          "base_uri": "https://localhost:8080/",
          "height": 605
        },
        "id": "NZaGJL73GVgt",
        "outputId": "d8ae0c6a-fb14-47bd-f8a3-8fe7e4eb403d"
      },
      "execution_count": 23,
      "outputs": [
        {
          "output_type": "display_data",
          "data": {
            "text/plain": [
              "<Figure size 1000x600 with 1 Axes>"
            ],
            "image/png": "[encoded data removed]"
          },
          "metadata": {}
        }
      ]
    }
  ]
}